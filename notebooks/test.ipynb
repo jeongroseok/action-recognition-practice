{
 "metadata": {
  "language_info": {
   "codemirror_mode": {
    "name": "ipython",
    "version": 3
   },
   "file_extension": ".py",
   "mimetype": "text/x-python",
   "name": "python",
   "nbconvert_exporter": "python",
   "pygments_lexer": "ipython3",
   "version": "3.6.11-final"
  },
  "orig_nbformat": 2,
  "kernelspec": {
   "name": "python361164bittorchcondaeb76ef5d69b64ff397befeae0cc148d9",
   "display_name": "Python 3.6.11 64-bit ('torch': conda)"
  }
 },
 "nbformat": 4,
 "nbformat_minor": 2,
 "cells": [
  {
   "cell_type": "code",
   "execution_count": 1,
   "metadata": {},
   "outputs": [],
   "source": [
    "import os\n",
    "import cv2\n",
    "import xml.etree.ElementTree as et\n",
    "from datetime import timedelta\n",
    "import numpy as np\n",
    "import dataset"
   ]
  },
  {
   "cell_type": "code",
   "execution_count": 2,
   "metadata": {},
   "outputs": [],
   "source": [
    "root_path = \"E:\\subset\""
   ]
  },
  {
   "cell_type": "code",
   "execution_count": 2,
   "metadata": {},
   "outputs": [],
   "source": [
    "def parse_timedelta(str) -> timedelta:\n",
    "    arr = np.array(str.split(':')).astype('float')\n",
    "    return timedelta(hours=arr[0], minutes=arr[1], seconds=arr[2])"
   ]
  },
  {
   "cell_type": "code",
   "execution_count": 93,
   "metadata": {},
   "outputs": [],
   "source": [
    "pth, lbl = items[0]"
   ]
  },
  {
   "cell_type": "code",
   "execution_count": 2,
   "metadata": {},
   "outputs": [
    {
     "output_type": "execute_result",
     "data": {
      "text/plain": "'E:\\\\subset\\\\[강도] 실내(원본)_01\\\\178-1_robbery02_place02_night\\\\178-1_cam01_robbery02_place02_night_spring.mp4'"
     },
     "metadata": {},
     "execution_count": 2
    }
   ],
   "source": [
    "pth = 'E:\\\\subset\\\\[강도] 실내(원본)_01\\\\178-1_robbery02_place02_night\\\\178-1_cam01_robbery02_place02_night_spring.mp4'\n",
    "pth"
   ]
  },
  {
   "cell_type": "code",
   "execution_count": 9,
   "metadata": {
    "tags": []
   },
   "outputs": [
    {
     "output_type": "stream",
     "name": "stdout",
     "text": "True\nFalse\nFalse\n(2160, 3840, 3)\n"
    },
    {
     "output_type": "execute_result",
     "data": {
      "text/plain": "numpy.ndarray"
     },
     "metadata": {},
     "execution_count": 9
    }
   ],
   "source": [
    "cap = cv2.VideoCapture(pth)\n",
    "print(cap.isOpened())\n",
    "print(cap.set(cv2.CAP_PROP_FRAME_WIDTH, cap.get(cv2.CAP_PROP_FRAME_WIDTH) / 4))\n",
    "print(cap.set(cv2.CAP_PROP_FRAME_HEIGHT, cap.get(cv2.CAP_PROP_FRAME_HEIGHT) / 4))\n",
    "_, frame = cap.read()\n",
    "print(frame.shape)\n",
    "type(frame)"
   ]
  },
  {
   "cell_type": "code",
   "execution_count": 9,
   "metadata": {},
   "outputs": [
    {
     "output_type": "execute_result",
     "data": {
      "text/plain": "29.97002997002997"
     },
     "metadata": {},
     "execution_count": 9
    }
   ],
   "source": [
    "cap.get(cv2.CAP_PROP_FPS)"
   ]
  },
  {
   "cell_type": "code",
   "execution_count": 11,
   "metadata": {},
   "outputs": [
    {
     "output_type": "execute_result",
     "data": {
      "text/plain": "9519.0"
     },
     "metadata": {},
     "execution_count": 11
    }
   ],
   "source": [
    "cap.get(cv2.CAP_PROP_FRAME_COUNT)"
   ]
  },
  {
   "cell_type": "code",
   "execution_count": 23,
   "metadata": {},
   "outputs": [
    {
     "output_type": "execute_result",
     "data": {
      "text/plain": "33.333333333333336"
     },
     "metadata": {},
     "execution_count": 23
    }
   ],
   "source": [
    "cap.get(cv2.CAP_PROP_POS_MSEC)"
   ]
  },
  {
   "cell_type": "code",
   "execution_count": 24,
   "metadata": {},
   "outputs": [
    {
     "output_type": "execute_result",
     "data": {
      "text/plain": "30.0"
     },
     "metadata": {},
     "execution_count": 24
    }
   ],
   "source": [
    "cap.get(cv2.CAP_PROP_POS_FRAMES)"
   ]
  },
  {
   "cell_type": "code",
   "execution_count": 22,
   "metadata": {},
   "outputs": [
    {
     "output_type": "execute_result",
     "data": {
      "text/plain": "True"
     },
     "metadata": {},
     "execution_count": 22
    }
   ],
   "source": [
    "cap.set(cv2.CAP_PROP_POS_MSEC, 1000)"
   ]
  },
  {
   "cell_type": "code",
   "execution_count": null,
   "metadata": {},
   "outputs": [],
   "source": [
    "import numpy as np"
   ]
  },
  {
   "cell_type": "code",
   "execution_count": 12,
   "metadata": {},
   "outputs": [],
   "source": [
    "frames = np.array(frames)"
   ]
  },
  {
   "cell_type": "code",
   "execution_count": 13,
   "metadata": {},
   "outputs": [
    {
     "output_type": "execute_result",
     "data": {
      "text/plain": "(46, 2160, 3840, 3)"
     },
     "metadata": {},
     "execution_count": 13
    }
   ],
   "source": [
    "frames.shape"
   ]
  },
  {
   "cell_type": "code",
   "execution_count": 34,
   "metadata": {},
   "outputs": [
    {
     "output_type": "execute_result",
     "data": {
      "text/plain": "139.6"
     },
     "metadata": {},
     "execution_count": 34
    }
   ],
   "source": [
    "parse_timedelta(event.findtext('starttime')).total_seconds()\n",
    "parse_timedelta(event.findtext('duration')).total_seconds()"
   ]
  },
  {
   "cell_type": "code",
   "execution_count": 8,
   "metadata": {},
   "outputs": [
    {
     "output_type": "execute_result",
     "data": {
      "text/plain": "139.6"
     },
     "metadata": {},
     "execution_count": 8
    }
   ],
   "source": [
    "duration"
   ]
  },
  {
   "cell_type": "code",
   "execution_count": 5,
   "metadata": {},
   "outputs": [
    {
     "output_type": "execute_result",
     "data": {
      "text/plain": "numpy.ndarray"
     },
     "metadata": {},
     "execution_count": 5
    }
   ],
   "source": [
    "type(input)"
   ]
  },
  {
   "cell_type": "code",
   "execution_count": 6,
   "metadata": {
    "tags": []
   },
   "outputs": [
    {
     "output_type": "stream",
     "name": "stdout",
     "text": "5.69 µs ± 40.6 ns per loop (mean ± std. dev. of 7 runs, 100000 loops each)\n1.65 µs ± 16.8 ns per loop (mean ± std. dev. of 7 runs, 1000000 loops each)\n2.11 µs ± 21.3 ns per loop (mean ± std. dev. of 7 runs, 100000 loops each)\n"
    }
   ],
   "source": [
    "x = np.zeros((12,12,3))\n",
    "%timeit np.moveaxis(x,-1,0)\n",
    "\n",
    "%timeit np.einsum('ijk->kij',x)\n",
    "\n",
    "%timeit np.rollaxis(x, 2, 0)"
   ]
  },
  {
   "cell_type": "code",
   "execution_count": 7,
   "metadata": {},
   "outputs": [],
   "source": [
    "dl = dataset.CCTVDataset(root_path)\n",
    "it = iter(dl)"
   ]
  },
  {
   "cell_type": "code",
   "execution_count": 9,
   "metadata": {
    "tags": []
   },
   "outputs": [
    {
     "output_type": "stream",
     "name": "stdout",
     "text": "cur frame: 5707.0, cur sec: 195.4\ncur frame: 5857.0, cur sec: 200.4\ncur frame: 6007.0, cur sec: 205.4\ncur frame: 6157.0, cur sec: 210.4\ncur frame: 6307.0, cur sec: 215.4\ncur frame: 6457.0, cur sec: 220.4\ncur frame: 6606.0, cur sec: 225.4\ncur frame: 6756.0, cur sec: 230.4\ncur frame: 6906.0, cur sec: 235.4\ncur frame: 7056.0, cur sec: 240.4\ncur frame: 7206.0, cur sec: 245.4\ncur frame: 7356.0, cur sec: 250.4\ncur frame: 7505.0, cur sec: 255.4\ncur frame: 7655.0, cur sec: 260.4\ncur frame: 7805.0, cur sec: 265.4\ncur frame: 7955.0, cur sec: 270.4\ncur frame: 8105.0, cur sec: 275.4\ncur frame: 8255.0, cur sec: 280.4\ncur frame: 8405.0, cur sec: 285.4\ncur frame: 8554.0, cur sec: 290.4\ncur frame: 8704.0, cur sec: 295.4\ncur frame: 8854.0, cur sec: 300.4\ncur frame: 6223.0, cur sec: 212.6\ncur frame: 6373.0, cur sec: 217.6\ncur frame: 6522.0, cur sec: 222.6\ncur frame: 6672.0, cur sec: 227.6\ncur frame: 6822.0, cur sec: 232.6\ncur frame: 6972.0, cur sec: 237.6\ncur frame: 7122.0, cur sec: 242.6\ncur frame: 7272.0, cur sec: 247.6\ncur frame: 7422.0, cur sec: 252.6\ncur frame: 7571.0, cur sec: 257.6\ncur frame: 7721.0, cur sec: 262.6\ncur frame: 7871.0, cur sec: 267.6\ncur frame: 8021.0, cur sec: 272.6\ncur frame: 8171.0, cur sec: 277.6\ncur frame: 8321.0, cur sec: 282.6\ncur frame: 8471.0, cur sec: 287.6\ncur frame: 8620.0, cur sec: 292.6\ncur frame: 8770.0, cur sec: 297.6\ncur frame: 8920.0, cur sec: 302.6\ncur frame: 9070.0, cur sec: 307.6\ncur frame: 9220.0, cur sec: 312.6\n"
    }
   ],
   "source": [
    "samples = [next(it), next(it)]"
   ]
  },
  {
   "cell_type": "code",
   "execution_count": 12,
   "metadata": {
    "tags": []
   },
   "outputs": [
    {
     "output_type": "execute_result",
     "data": {
      "text/plain": "numpy.ndarray"
     },
     "metadata": {},
     "execution_count": 12
    }
   ],
   "source": [
    "type(samples[0][0])"
   ]
  },
  {
   "cell_type": "code",
   "execution_count": null,
   "metadata": {},
   "outputs": [],
   "source": []
  },
  {
   "cell_type": "code",
   "execution_count": 9,
   "metadata": {},
   "outputs": [],
   "source": [
    "dm = dataset.CCTVDataModule(root_path)"
   ]
  },
  {
   "cell_type": "code",
   "execution_count": 13,
   "metadata": {},
   "outputs": [],
   "source": [
    "dm.setup('train')"
   ]
  },
  {
   "cell_type": "code",
   "execution_count": 14,
   "metadata": {
    "tags": []
   },
   "outputs": [
    {
     "output_type": "stream",
     "name": "stdout",
     "text": "cur frame: 4937.0, cur sec: 169.7\ncur frame: 5087.0, cur sec: 174.7\ncur frame: 5237.0, cur sec: 179.7\ncur frame: 5387.0, cur sec: 184.7\ncur frame: 5536.0, cur sec: 189.7\ncur frame: 5686.0, cur sec: 194.7\ncur frame: 5836.0, cur sec: 199.7\ncur frame: 5986.0, cur sec: 204.7\ncur frame: 6136.0, cur sec: 209.7\ncur frame: 6286.0, cur sec: 214.7\ncur frame: 6436.0, cur sec: 219.7\ncur frame: 6585.0, cur sec: 224.7\ncur frame: 6735.0, cur sec: 229.7\ncur frame: 6885.0, cur sec: 234.7\ncur frame: 7035.0, cur sec: 239.7\ncur frame: 7185.0, cur sec: 244.7\ncur frame: 7335.0, cur sec: 249.7\ncur frame: 7485.0, cur sec: 254.7\ncur frame: 7634.0, cur sec: 259.7\ncur frame: 7784.0, cur sec: 264.7\ncur frame: 7934.0, cur sec: 269.7\ncur frame: 8084.0, cur sec: 274.7\ncur frame: 8234.0, cur sec: 279.7\ncur frame: 8384.0, cur sec: 284.7\ncur frame: 8533.0, cur sec: 289.7\ncur frame: 8683.0, cur sec: 294.7\ncur frame: 8833.0, cur sec: 299.7\ncur frame: 5707.0, cur sec: 195.4\ncur frame: 5857.0, cur sec: 200.4\ncur frame: 6007.0, cur sec: 205.4\ncur frame: 6157.0, cur sec: 210.4\ncur frame: 6307.0, cur sec: 215.4\ncur frame: 6457.0, cur sec: 220.4\ncur frame: 6606.0, cur sec: 225.4\ncur frame: 6756.0, cur sec: 230.4\ncur frame: 6906.0, cur sec: 235.4\ncur frame: 7056.0, cur sec: 240.4\ncur frame: 7206.0, cur sec: 245.4\ncur frame: 7356.0, cur sec: 250.4\ncur frame: 7505.0, cur sec: 255.4\ncur frame: 7655.0, cur sec: 260.4\ncur frame: 7805.0, cur sec: 265.4\ncur frame: 7955.0, cur sec: 270.4\ncur frame: 8105.0, cur sec: 275.4\ncur frame: 8255.0, cur sec: 280.4\ncur frame: 8405.0, cur sec: 285.4\ncur frame: 8554.0, cur sec: 290.4\ncur frame: 8704.0, cur sec: 295.4\ncur frame: 8854.0, cur sec: 300.4\ncur frame: 6223.0, cur sec: 212.6\ncur frame: 6373.0, cur sec: 217.6\ncur frame: 6522.0, cur sec: 222.6\ncur frame: 6672.0, cur sec: 227.6\ncur frame: 6822.0, cur sec: 232.6\ncur frame: 6972.0, cur sec: 237.6\ncur frame: 7122.0, cur sec: 242.6\ncur frame: 7272.0, cur sec: 247.6\ncur frame: 7422.0, cur sec: 252.6\ncur frame: 7571.0, cur sec: 257.6\ncur frame: 7721.0, cur sec: 262.6\ncur frame: 7871.0, cur sec: 267.6\ncur frame: 8021.0, cur sec: 272.6\ncur frame: 8171.0, cur sec: 277.6\ncur frame: 8321.0, cur sec: 282.6\ncur frame: 8471.0, cur sec: 287.6\ncur frame: 8620.0, cur sec: 292.6\ncur frame: 8770.0, cur sec: 297.6\ncur frame: 8920.0, cur sec: 302.6\ncur frame: 9070.0, cur sec: 307.6\ncur frame: 9220.0, cur sec: 312.6\ncur frame: 4754.0, cur sec: 163.6\ncur frame: 4904.0, cur sec: 168.6\ncur frame: 5054.0, cur sec: 173.6\ncur frame: 5204.0, cur sec: 178.6\ncur frame: 5354.0, cur sec: 183.6\ncur frame: 5503.0, cur sec: 188.6\ncur frame: 5653.0, cur sec: 193.6\ncur frame: 5803.0, cur sec: 198.6\ncur frame: 5953.0, cur sec: 203.6\ncur frame: 6103.0, cur sec: 208.6\ncur frame: 6253.0, cur sec: 213.6\ncur frame: 6403.0, cur sec: 218.6\ncur frame: 6552.0, cur sec: 223.6\ncur frame: 6702.0, cur sec: 228.6\ncur frame: 6852.0, cur sec: 233.6\ncur frame: 7002.0, cur sec: 238.6\ncur frame: 7152.0, cur sec: 243.6\ncur frame: 7302.0, cur sec: 248.6\ncur frame: 7452.0, cur sec: 253.6\ncur frame: 7601.0, cur sec: 258.6\ncur frame: 7751.0, cur sec: 263.6\ncur frame: 7901.0, cur sec: 268.6\ncur frame: 8051.0, cur sec: 273.6\ncur frame: 8201.0, cur sec: 278.6\ncur frame: 8351.0, cur sec: 283.6\ncur frame: 8501.0, cur sec: 288.6\ncur frame: 8650.0, cur sec: 293.6\ncur frame: 8800.0, cur sec: 298.6\ncur frame: 5773.0, cur sec: 197.6\ncur frame: 5923.0, cur sec: 202.6\ncur frame: 6073.0, cur sec: 207.6\ncur frame: 6223.0, cur sec: 212.6\ncur frame: 6373.0, cur sec: 217.6\ncur frame: 6522.0, cur sec: 222.6\ncur frame: 6672.0, cur sec: 227.6\ncur frame: 6822.0, cur sec: 232.6\ncur frame: 6972.0, cur sec: 237.6\ncur frame: 7122.0, cur sec: 242.6\ncur frame: 7272.0, cur sec: 247.6\ncur frame: 7422.0, cur sec: 252.6\ncur frame: 7571.0, cur sec: 257.6\ncur frame: 7721.0, cur sec: 262.6\ncur frame: 7871.0, cur sec: 267.6\ncur frame: 8021.0, cur sec: 272.6\ncur frame: 8171.0, cur sec: 277.6\ncur frame: 8321.0, cur sec: 282.6\ncur frame: 8471.0, cur sec: 287.6\ncur frame: 8620.0, cur sec: 292.6\ncur frame: 8770.0, cur sec: 297.6\ncur frame: 8920.0, cur sec: 302.6\ncur frame: 6058.0, cur sec: 207.1\ncur frame: 6208.0, cur sec: 212.1\ncur frame: 6358.0, cur sec: 217.1\ncur frame: 6507.0, cur sec: 222.1\ncur frame: 6657.0, cur sec: 227.1\ncur frame: 6807.0, cur sec: 232.1\ncur frame: 6957.0, cur sec: 237.1\ncur frame: 7107.0, cur sec: 242.1\ncur frame: 7257.0, cur sec: 247.1\ncur frame: 7407.0, cur sec: 252.1\ncur frame: 7556.0, cur sec: 257.1\ncur frame: 7706.0, cur sec: 262.1\ncur frame: 7856.0, cur sec: 267.1\ncur frame: 8006.0, cur sec: 272.1\ncur frame: 8156.0, cur sec: 277.1\ncur frame: 8306.0, cur sec: 282.1\ncur frame: 8456.0, cur sec: 287.1\ncur frame: 8605.0, cur sec: 292.1\ncur frame: 8755.0, cur sec: 297.1\ncur frame: 4739.0, cur sec: 163.1\ncur frame: 4889.0, cur sec: 168.1\ncur frame: 5039.0, cur sec: 173.1\ncur frame: 5189.0, cur sec: 178.1\ncur frame: 5339.0, cur sec: 183.1\ncur frame: 5489.0, cur sec: 188.1\ncur frame: 5638.0, cur sec: 193.1\ncur frame: 5788.0, cur sec: 198.1\ncur frame: 5938.0, cur sec: 203.1\ncur frame: 6088.0, cur sec: 208.1\ncur frame: 6238.0, cur sec: 213.1\ncur frame: 6388.0, cur sec: 218.1\ncur frame: 6537.0, cur sec: 223.1\ncur frame: 6687.0, cur sec: 228.1\ncur frame: 6837.0, cur sec: 233.1\ncur frame: 6987.0, cur sec: 238.1\ncur frame: 7137.0, cur sec: 243.1\ncur frame: 7287.0, cur sec: 248.1\ncur frame: 7437.0, cur sec: 253.1\ncur frame: 7586.0, cur sec: 258.1\ncur frame: 7736.0, cur sec: 263.1\ncur frame: 7886.0, cur sec: 268.1\ncur frame: 8036.0, cur sec: 273.1\ncur frame: 8186.0, cur sec: 278.1\ncur frame: 8336.0, cur sec: 283.1\ncur frame: 8486.0, cur sec: 288.1\ncur frame: 8635.0, cur sec: 293.1\ncur frame: 8785.0, cur sec: 298.1\ncur frame: 8935.0, cur sec: 303.1\ncur frame: 5707.0, cur sec: 195.4\ncur frame: 5857.0, cur sec: 200.4\ncur frame: 6007.0, cur sec: 205.4\ncur frame: 6157.0, cur sec: 210.4\ncur frame: 6307.0, cur sec: 215.4\ncur frame: 6457.0, cur sec: 220.4\ncur frame: 6606.0, cur sec: 225.4\ncur frame: 6756.0, cur sec: 230.4\ncur frame: 6906.0, cur sec: 235.4\ncur frame: 7056.0, cur sec: 240.4\ncur frame: 7206.0, cur sec: 245.4\ncur frame: 7356.0, cur sec: 250.4\ncur frame: 7505.0, cur sec: 255.4\ncur frame: 7655.0, cur sec: 260.4\ncur frame: 7805.0, cur sec: 265.4\ncur frame: 7955.0, cur sec: 270.4\ncur frame: 8105.0, cur sec: 275.4\ncur frame: 8255.0, cur sec: 280.4\ncur frame: 8405.0, cur sec: 285.4\ncur frame: 8554.0, cur sec: 290.4\ncur frame: 8704.0, cur sec: 295.4\ncur frame: 8854.0, cur sec: 300.4\ncur frame: 6064.0, cur sec: 207.3\ncur frame: 6214.0, cur sec: 212.3\ncur frame: 6364.0, cur sec: 217.3\ncur frame: 6513.0, cur sec: 222.3\ncur frame: 6663.0, cur sec: 227.3\ncur frame: 6813.0, cur sec: 232.3\ncur frame: 6963.0, cur sec: 237.3\ncur frame: 7113.0, cur sec: 242.3\ncur frame: 7263.0, cur sec: 247.3\ncur frame: 7413.0, cur sec: 252.3\ncur frame: 7562.0, cur sec: 257.3\ncur frame: 7712.0, cur sec: 262.3\ncur frame: 7862.0, cur sec: 267.3\ncur frame: 8012.0, cur sec: 272.3\ncur frame: 8162.0, cur sec: 277.3\ncur frame: 8312.0, cur sec: 282.3\ncur frame: 8462.0, cur sec: 287.3\ncur frame: 8611.0, cur sec: 292.3\ncur frame: 8761.0, cur sec: 297.3\ncur frame: 6295.0, cur sec: 215.0\ncur frame: 6445.0, cur sec: 220.0\ncur frame: 6594.0, cur sec: 225.0\ncur frame: 6744.0, cur sec: 230.0\ncur frame: 6894.0, cur sec: 235.0\ncur frame: 7044.0, cur sec: 240.0\ncur frame: 7194.0, cur sec: 245.0\ncur frame: 7344.0, cur sec: 250.0\ncur frame: 7494.0, cur sec: 255.0\ncur frame: 7643.0, cur sec: 260.0\ncur frame: 7793.0, cur sec: 265.0\ncur frame: 7943.0, cur sec: 270.0\ncur frame: 8093.0, cur sec: 275.0\ncur frame: 8243.0, cur sec: 280.0\ncur frame: 8393.0, cur sec: 285.0\ncur frame: 8542.0, cur sec: 290.0\ncur frame: 8692.0, cur sec: 295.0\ncur frame: 8842.0, cur sec: 300.0\ncur frame: 8992.0, cur sec: 305.0\ncur frame: 9142.0, cur sec: 310.0\ncur frame: 6163.0, cur sec: 210.6\ncur frame: 6313.0, cur sec: 215.6\ncur frame: 6463.0, cur sec: 220.6\ncur frame: 6612.0, cur sec: 225.6\ncur frame: 6762.0, cur sec: 230.6\ncur frame: 6912.0, cur sec: 235.6\ncur frame: 7062.0, cur sec: 240.6\ncur frame: 7212.0, cur sec: 245.6\ncur frame: 7362.0, cur sec: 250.6\ncur frame: 7511.0, cur sec: 255.6\ncur frame: 7661.0, cur sec: 260.6\ncur frame: 7811.0, cur sec: 265.6\ncur frame: 7961.0, cur sec: 270.6\ncur frame: 8111.0, cur sec: 275.6\ncur frame: 8261.0, cur sec: 280.6\ncur frame: 8411.0, cur sec: 285.6\ncur frame: 8560.0, cur sec: 290.6\ncur frame: 8710.0, cur sec: 295.6\ncur frame: 7685.0, cur sec: 261.4\ncur frame: 7835.0, cur sec: 266.4\ncur frame: 7985.0, cur sec: 271.4\ncur frame: 8135.0, cur sec: 276.4\ncur frame: 8285.0, cur sec: 281.4\ncur frame: 8435.0, cur sec: 286.4\ncur frame: 8584.0, cur sec: 291.4\ncur frame: 8734.0, cur sec: 296.4\ncur frame: 6232.0, cur sec: 212.9\ncur frame: 6382.0, cur sec: 217.9\ncur frame: 6531.0, cur sec: 222.9\ncur frame: 6681.0, cur sec: 227.9\ncur frame: 6831.0, cur sec: 232.9\ncur frame: 6981.0, cur sec: 237.9\ncur frame: 7131.0, cur sec: 242.9\ncur frame: 7281.0, cur sec: 247.9\ncur frame: 7431.0, cur sec: 252.9\ncur frame: 7580.0, cur sec: 257.9\ncur frame: 7730.0, cur sec: 262.9\ncur frame: 7880.0, cur sec: 267.9\ncur frame: 8030.0, cur sec: 272.9\ncur frame: 8180.0, cur sec: 277.9\ncur frame: 8330.0, cur sec: 282.9\ncur frame: 8480.0, cur sec: 287.9\ncur frame: 8629.0, cur sec: 292.9\ncur frame: 8779.0, cur sec: 297.9\ncur frame: 8929.0, cur sec: 302.9\ncur frame: 9079.0, cur sec: 307.9\ncur frame: 6103.0, cur sec: 208.6\ncur frame: 6253.0, cur sec: 213.6\ncur frame: 6403.0, cur sec: 218.6\ncur frame: 6552.0, cur sec: 223.6\ncur frame: 6702.0, cur sec: 228.6\ncur frame: 6852.0, cur sec: 233.6\ncur frame: 7002.0, cur sec: 238.6\ncur frame: 7152.0, cur sec: 243.6\ncur frame: 7302.0, cur sec: 248.6\ncur frame: 7452.0, cur sec: 253.6\ncur frame: 7601.0, cur sec: 258.6\ncur frame: 7751.0, cur sec: 263.6\ncur frame: 7901.0, cur sec: 268.6\ncur frame: 8051.0, cur sec: 273.6\ncur frame: 8201.0, cur sec: 278.6\ncur frame: 8351.0, cur sec: 283.6\ncur frame: 8501.0, cur sec: 288.6\ncur frame: 8650.0, cur sec: 293.6\ncur frame: 8234.0, cur sec: 279.7\ncur frame: 8384.0, cur sec: 284.7\ncur frame: 8533.0, cur sec: 289.7\ncur frame: 8683.0, cur sec: 294.7\ncur frame: 8833.0, cur sec: 299.7\ncur frame: 6226.0, cur sec: 212.7\ncur frame: 6376.0, cur sec: 217.7\ncur frame: 6525.0, cur sec: 222.7\ncur frame: 6675.0, cur sec: 227.7\ncur frame: 6825.0, cur sec: 232.7\ncur frame: 6975.0, cur sec: 237.7\ncur frame: 7125.0, cur sec: 242.7\ncur frame: 7275.0, cur sec: 247.7\ncur frame: 7425.0, cur sec: 252.7\ncur frame: 7574.0, cur sec: 257.7\ncur frame: 7724.0, cur sec: 262.7\ncur frame: 7874.0, cur sec: 267.7\ncur frame: 8024.0, cur sec: 272.7\ncur frame: 8174.0, cur sec: 277.7\ncur frame: 8324.0, cur sec: 282.7\ncur frame: 8474.0, cur sec: 287.7\ncur frame: 8623.0, cur sec: 292.7\ncur frame: 8773.0, cur sec: 297.7\ncur frame: 8923.0, cur sec: 302.7\ncur frame: 9073.0, cur sec: 307.7\ncur frame: 6061.0, cur sec: 207.2\ncur frame: 6211.0, cur sec: 212.2\ncur frame: 6361.0, cur sec: 217.2\ncur frame: 6510.0, cur sec: 222.2\ncur frame: 6660.0, cur sec: 227.2\ncur frame: 6810.0, cur sec: 232.2\ncur frame: 6960.0, cur sec: 237.2\ncur frame: 7110.0, cur sec: 242.2\ncur frame: 7260.0, cur sec: 247.2\ncur frame: 7410.0, cur sec: 252.2\ncur frame: 7559.0, cur sec: 257.2\ncur frame: 7709.0, cur sec: 262.2\ncur frame: 7859.0, cur sec: 267.2\ncur frame: 8009.0, cur sec: 272.2\ncur frame: 8159.0, cur sec: 277.2\ncur frame: 8309.0, cur sec: 282.2\ncur frame: 8459.0, cur sec: 287.2\ncur frame: 8608.0, cur sec: 292.2\ncur frame: 7685.0, cur sec: 261.4\ncur frame: 7835.0, cur sec: 266.4\ncur frame: 7985.0, cur sec: 271.4\ncur frame: 8135.0, cur sec: 276.4\ncur frame: 8285.0, cur sec: 281.4\ncur frame: 8435.0, cur sec: 286.4\ncur frame: 8584.0, cur sec: 291.4\ncur frame: 8734.0, cur sec: 296.4\ncur frame: 8884.0, cur sec: 301.4\ncur frame: 6226.0, cur sec: 212.7\ncur frame: 6376.0, cur sec: 217.7\ncur frame: 6525.0, cur sec: 222.7\ncur frame: 6675.0, cur sec: 227.7\ncur frame: 6825.0, cur sec: 232.7\ncur frame: 6975.0, cur sec: 237.7\ncur frame: 7125.0, cur sec: 242.7\ncur frame: 7275.0, cur sec: 247.7\ncur frame: 7425.0, cur sec: 252.7\ncur frame: 7574.0, cur sec: 257.7\ncur frame: 7724.0, cur sec: 262.7\ncur frame: 7874.0, cur sec: 267.7\ncur frame: 5584.0, cur sec: 191.3\ncur frame: 5734.0, cur sec: 196.3\ncur frame: 5884.0, cur sec: 201.3\ncur frame: 6034.0, cur sec: 206.3\ncur frame: 6184.0, cur sec: 211.3\ncur frame: 6334.0, cur sec: 216.3\ncur frame: 6484.0, cur sec: 221.3\ncur frame: 6633.0, cur sec: 226.3\ncur frame: 6783.0, cur sec: 231.3\ncur frame: 6933.0, cur sec: 236.3\ncur frame: 7083.0, cur sec: 241.3\ncur frame: 7233.0, cur sec: 246.3\ncur frame: 7383.0, cur sec: 251.3\ncur frame: 6016.0, cur sec: 205.7\ncur frame: 6166.0, cur sec: 210.7\ncur frame: 6316.0, cur sec: 215.7\ncur frame: 6466.0, cur sec: 220.7\ncur frame: 6615.0, cur sec: 225.7\ncur frame: 6765.0, cur sec: 230.7\ncur frame: 6915.0, cur sec: 235.7\ncur frame: 7065.0, cur sec: 240.7\ncur frame: 7215.0, cur sec: 245.7\ncur frame: 7365.0, cur sec: 250.7\ncur frame: 7514.0, cur sec: 255.7\ncur frame: 7664.0, cur sec: 260.7\ncur frame: 7814.0, cur sec: 265.7\ncur frame: 6235.0, cur sec: 213.0\ncur frame: 6385.0, cur sec: 218.0\ncur frame: 6534.0, cur sec: 223.0\ncur frame: 6684.0, cur sec: 228.0\ncur frame: 6834.0, cur sec: 233.0\ncur frame: 6984.0, cur sec: 238.0\ncur frame: 7134.0, cur sec: 243.0\ncur frame: 7284.0, cur sec: 248.0\ncur frame: 7434.0, cur sec: 253.0\ncur frame: 7583.0, cur sec: 258.0\ncur frame: 7733.0, cur sec: 263.0\ncur frame: 7883.0, cur sec: 268.0\ncur frame: 5557.0, cur sec: 190.4\ncur frame: 5707.0, cur sec: 195.4\ncur frame: 5857.0, cur sec: 200.4\ncur frame: 6007.0, cur sec: 205.4\ncur frame: 6157.0, cur sec: 210.4\ncur frame: 6307.0, cur sec: 215.4\ncur frame: 6457.0, cur sec: 220.4\ncur frame: 6606.0, cur sec: 225.4\ncur frame: 6756.0, cur sec: 230.4\ncur frame: 6906.0, cur sec: 235.4\ncur frame: 7056.0, cur sec: 240.4\ncur frame: 7206.0, cur sec: 245.4\ncur frame: 7356.0, cur sec: 250.4\ncur frame: 6028.0, cur sec: 206.1\ncur frame: 6178.0, cur sec: 211.1\ncur frame: 6328.0, cur sec: 216.1\ncur frame: 6478.0, cur sec: 221.1\ncur frame: 6627.0, cur sec: 226.1\ncur frame: 6777.0, cur sec: 231.1\ncur frame: 6927.0, cur sec: 236.1\ncur frame: 7077.0, cur sec: 241.1\ncur frame: 7227.0, cur sec: 246.1\ncur frame: 7377.0, cur sec: 251.1\ncur frame: 7526.0, cur sec: 256.1\ncur frame: 7676.0, cur sec: 261.1\ncur frame: 7826.0, cur sec: 266.1\ncur frame: 6052.0, cur sec: 206.9\ncur frame: 6202.0, cur sec: 211.9\ncur frame: 6352.0, cur sec: 216.9\ncur frame: 6501.0, cur sec: 221.9\ncur frame: 6651.0, cur sec: 226.9\ncur frame: 6801.0, cur sec: 231.9\ncur frame: 6951.0, cur sec: 236.9\ncur frame: 7101.0, cur sec: 241.9\ncur frame: 7251.0, cur sec: 246.9\ncur frame: 7401.0, cur sec: 251.9\ncur frame: 7550.0, cur sec: 256.9\ncur frame: 7700.0, cur sec: 261.9\ncur frame: 5569.0, cur sec: 190.8\ncur frame: 5719.0, cur sec: 195.8\ncur frame: 5869.0, cur sec: 200.8\ncur frame: 6019.0, cur sec: 205.8\ncur frame: 6169.0, cur sec: 210.8\ncur frame: 6319.0, cur sec: 215.8\ncur frame: 6469.0, cur sec: 220.8\ncur frame: 6618.0, cur sec: 225.8\ncur frame: 6768.0, cur sec: 230.8\ncur frame: 6918.0, cur sec: 235.8\ncur frame: 7068.0, cur sec: 240.8\ncur frame: 7218.0, cur sec: 245.8\ncur frame: 7368.0, cur sec: 250.8\ncur frame: 6022.0, cur sec: 205.9\ncur frame: 6172.0, cur sec: 210.9\ncur frame: 6322.0, cur sec: 215.9\ncur frame: 6472.0, cur sec: 220.9\ncur frame: 6621.0, cur sec: 225.9\ncur frame: 6771.0, cur sec: 230.9\ncur frame: 6921.0, cur sec: 235.9\ncur frame: 7071.0, cur sec: 240.9\ncur frame: 7221.0, cur sec: 245.9\ncur frame: 7371.0, cur sec: 250.9\ncur frame: 7520.0, cur sec: 255.9\ncur frame: 7670.0, cur sec: 260.9\ncur frame: 7820.0, cur sec: 265.9\ncur frame: 6870.0, cur sec: 234.2\ncur frame: 7020.0, cur sec: 239.2\ncur frame: 7170.0, cur sec: 244.2\ncur frame: 7320.0, cur sec: 249.2\ncur frame: 7470.0, cur sec: 254.2\ncur frame: 7619.0, cur sec: 259.2\ncur frame: 7769.0, cur sec: 264.2\ncur frame: 6573.0, cur sec: 224.3\ncur frame: 6723.0, cur sec: 229.3\ncur frame: 6873.0, cur sec: 234.3\ncur frame: 7023.0, cur sec: 239.3\ncur frame: 7173.0, cur sec: 244.3\ncur frame: 7323.0, cur sec: 249.3\ncur frame: 7473.0, cur sec: 254.3\ncur frame: 7622.0, cur sec: 259.3\ncur frame: 7772.0, cur sec: 264.3\ncur frame: 7922.0, cur sec: 269.3\ncur frame: 8072.0, cur sec: 274.3\ncur frame: 8222.0, cur sec: 279.3\ncur frame: 6930.0, cur sec: 236.2\ncur frame: 7080.0, cur sec: 241.2\ncur frame: 7230.0, cur sec: 246.2\ncur frame: 7380.0, cur sec: 251.2\ncur frame: 7529.0, cur sec: 256.2\ncur frame: 7679.0, cur sec: 261.2\ncur frame: 6870.0, cur sec: 234.2\ncur frame: 7020.0, cur sec: 239.2\ncur frame: 7170.0, cur sec: 244.2\ncur frame: 7320.0, cur sec: 249.2\ncur frame: 7470.0, cur sec: 254.2\ncur frame: 7619.0, cur sec: 259.2\ncur frame: 7769.0, cur sec: 264.2\ncur frame: 6576.0, cur sec: 224.4\ncur frame: 6726.0, cur sec: 229.4\ncur frame: 6876.0, cur sec: 234.4\ncur frame: 7026.0, cur sec: 239.4\ncur frame: 7176.0, cur sec: 244.4\ncur frame: 7326.0, cur sec: 249.4\ncur frame: 7476.0, cur sec: 254.4\ncur frame: 7625.0, cur sec: 259.4\ncur frame: 7775.0, cur sec: 264.4\ncur frame: 7925.0, cur sec: 269.4\ncur frame: 8075.0, cur sec: 274.4\ncur frame: 8225.0, cur sec: 279.4\n"
    },
    {
     "output_type": "error",
     "ename": "RuntimeError",
     "evalue": "stack expects each tensor to be equal size, but got [3, 27, 1080, 1920] at entry 0 and [3, 22, 1080, 1920] at entry 1",
     "traceback": [
      "\u001b[1;31m---------------------------------------------------------------------------\u001b[0m",
      "\u001b[1;31mRuntimeError\u001b[0m                              Traceback (most recent call last)",
      "\u001b[1;32m<ipython-input-14-d76928039d3a>\u001b[0m in \u001b[0;36m<module>\u001b[1;34m\u001b[0m\n\u001b[1;32m----> 1\u001b[1;33m \u001b[0mx\u001b[0m \u001b[1;33m=\u001b[0m \u001b[0mnext\u001b[0m\u001b[1;33m(\u001b[0m\u001b[0miter\u001b[0m\u001b[1;33m(\u001b[0m\u001b[0mdm\u001b[0m\u001b[1;33m.\u001b[0m\u001b[0mtrain_dataloader\u001b[0m\u001b[1;33m(\u001b[0m\u001b[1;33m)\u001b[0m\u001b[1;33m)\u001b[0m\u001b[1;33m)\u001b[0m\u001b[1;33m\u001b[0m\u001b[1;33m\u001b[0m\u001b[0m\n\u001b[0m",
      "\u001b[1;32m~\\anaconda3\\envs\\torch\\lib\\site-packages\\torch\\utils\\data\\dataloader.py\u001b[0m in \u001b[0;36m__next__\u001b[1;34m(self)\u001b[0m\n\u001b[0;32m    361\u001b[0m \u001b[1;33m\u001b[0m\u001b[0m\n\u001b[0;32m    362\u001b[0m     \u001b[1;32mdef\u001b[0m \u001b[0m__next__\u001b[0m\u001b[1;33m(\u001b[0m\u001b[0mself\u001b[0m\u001b[1;33m)\u001b[0m\u001b[1;33m:\u001b[0m\u001b[1;33m\u001b[0m\u001b[1;33m\u001b[0m\u001b[0m\n\u001b[1;32m--> 363\u001b[1;33m         \u001b[0mdata\u001b[0m \u001b[1;33m=\u001b[0m \u001b[0mself\u001b[0m\u001b[1;33m.\u001b[0m\u001b[0m_next_data\u001b[0m\u001b[1;33m(\u001b[0m\u001b[1;33m)\u001b[0m\u001b[1;33m\u001b[0m\u001b[1;33m\u001b[0m\u001b[0m\n\u001b[0m\u001b[0;32m    364\u001b[0m         \u001b[0mself\u001b[0m\u001b[1;33m.\u001b[0m\u001b[0m_num_yielded\u001b[0m \u001b[1;33m+=\u001b[0m \u001b[1;36m1\u001b[0m\u001b[1;33m\u001b[0m\u001b[1;33m\u001b[0m\u001b[0m\n\u001b[0;32m    365\u001b[0m         \u001b[1;32mif\u001b[0m \u001b[0mself\u001b[0m\u001b[1;33m.\u001b[0m\u001b[0m_dataset_kind\u001b[0m \u001b[1;33m==\u001b[0m \u001b[0m_DatasetKind\u001b[0m\u001b[1;33m.\u001b[0m\u001b[0mIterable\u001b[0m \u001b[1;32mand\u001b[0m\u001b[0;31m \u001b[0m\u001b[0;31m\\\u001b[0m\u001b[1;33m\u001b[0m\u001b[1;33m\u001b[0m\u001b[0m\n",
      "\u001b[1;32m~\\anaconda3\\envs\\torch\\lib\\site-packages\\torch\\utils\\data\\dataloader.py\u001b[0m in \u001b[0;36m_next_data\u001b[1;34m(self)\u001b[0m\n\u001b[0;32m    401\u001b[0m     \u001b[1;32mdef\u001b[0m \u001b[0m_next_data\u001b[0m\u001b[1;33m(\u001b[0m\u001b[0mself\u001b[0m\u001b[1;33m)\u001b[0m\u001b[1;33m:\u001b[0m\u001b[1;33m\u001b[0m\u001b[1;33m\u001b[0m\u001b[0m\n\u001b[0;32m    402\u001b[0m         \u001b[0mindex\u001b[0m \u001b[1;33m=\u001b[0m \u001b[0mself\u001b[0m\u001b[1;33m.\u001b[0m\u001b[0m_next_index\u001b[0m\u001b[1;33m(\u001b[0m\u001b[1;33m)\u001b[0m  \u001b[1;31m# may raise StopIteration\u001b[0m\u001b[1;33m\u001b[0m\u001b[1;33m\u001b[0m\u001b[0m\n\u001b[1;32m--> 403\u001b[1;33m         \u001b[0mdata\u001b[0m \u001b[1;33m=\u001b[0m \u001b[0mself\u001b[0m\u001b[1;33m.\u001b[0m\u001b[0m_dataset_fetcher\u001b[0m\u001b[1;33m.\u001b[0m\u001b[0mfetch\u001b[0m\u001b[1;33m(\u001b[0m\u001b[0mindex\u001b[0m\u001b[1;33m)\u001b[0m  \u001b[1;31m# may raise StopIteration\u001b[0m\u001b[1;33m\u001b[0m\u001b[1;33m\u001b[0m\u001b[0m\n\u001b[0m\u001b[0;32m    404\u001b[0m         \u001b[1;32mif\u001b[0m \u001b[0mself\u001b[0m\u001b[1;33m.\u001b[0m\u001b[0m_pin_memory\u001b[0m\u001b[1;33m:\u001b[0m\u001b[1;33m\u001b[0m\u001b[1;33m\u001b[0m\u001b[0m\n\u001b[0;32m    405\u001b[0m             \u001b[0mdata\u001b[0m \u001b[1;33m=\u001b[0m \u001b[0m_utils\u001b[0m\u001b[1;33m.\u001b[0m\u001b[0mpin_memory\u001b[0m\u001b[1;33m.\u001b[0m\u001b[0mpin_memory\u001b[0m\u001b[1;33m(\u001b[0m\u001b[0mdata\u001b[0m\u001b[1;33m)\u001b[0m\u001b[1;33m\u001b[0m\u001b[1;33m\u001b[0m\u001b[0m\n",
      "\u001b[1;32m~\\anaconda3\\envs\\torch\\lib\\site-packages\\torch\\utils\\data\\_utils\\fetch.py\u001b[0m in \u001b[0;36mfetch\u001b[1;34m(self, possibly_batched_index)\u001b[0m\n\u001b[0;32m     45\u001b[0m         \u001b[1;32melse\u001b[0m\u001b[1;33m:\u001b[0m\u001b[1;33m\u001b[0m\u001b[1;33m\u001b[0m\u001b[0m\n\u001b[0;32m     46\u001b[0m             \u001b[0mdata\u001b[0m \u001b[1;33m=\u001b[0m \u001b[0mself\u001b[0m\u001b[1;33m.\u001b[0m\u001b[0mdataset\u001b[0m\u001b[1;33m[\u001b[0m\u001b[0mpossibly_batched_index\u001b[0m\u001b[1;33m]\u001b[0m\u001b[1;33m\u001b[0m\u001b[1;33m\u001b[0m\u001b[0m\n\u001b[1;32m---> 47\u001b[1;33m         \u001b[1;32mreturn\u001b[0m \u001b[0mself\u001b[0m\u001b[1;33m.\u001b[0m\u001b[0mcollate_fn\u001b[0m\u001b[1;33m(\u001b[0m\u001b[0mdata\u001b[0m\u001b[1;33m)\u001b[0m\u001b[1;33m\u001b[0m\u001b[1;33m\u001b[0m\u001b[0m\n\u001b[0m",
      "\u001b[1;32m~\\anaconda3\\envs\\torch\\lib\\site-packages\\torch\\utils\\data\\_utils\\collate.py\u001b[0m in \u001b[0;36mdefault_collate\u001b[1;34m(batch)\u001b[0m\n\u001b[0;32m     82\u001b[0m             \u001b[1;32mraise\u001b[0m \u001b[0mRuntimeError\u001b[0m\u001b[1;33m(\u001b[0m\u001b[1;34m'each element in list of batch should be of equal size'\u001b[0m\u001b[1;33m)\u001b[0m\u001b[1;33m\u001b[0m\u001b[1;33m\u001b[0m\u001b[0m\n\u001b[0;32m     83\u001b[0m         \u001b[0mtransposed\u001b[0m \u001b[1;33m=\u001b[0m \u001b[0mzip\u001b[0m\u001b[1;33m(\u001b[0m\u001b[1;33m*\u001b[0m\u001b[0mbatch\u001b[0m\u001b[1;33m)\u001b[0m\u001b[1;33m\u001b[0m\u001b[1;33m\u001b[0m\u001b[0m\n\u001b[1;32m---> 84\u001b[1;33m         \u001b[1;32mreturn\u001b[0m \u001b[1;33m[\u001b[0m\u001b[0mdefault_collate\u001b[0m\u001b[1;33m(\u001b[0m\u001b[0msamples\u001b[0m\u001b[1;33m)\u001b[0m \u001b[1;32mfor\u001b[0m \u001b[0msamples\u001b[0m \u001b[1;32min\u001b[0m \u001b[0mtransposed\u001b[0m\u001b[1;33m]\u001b[0m\u001b[1;33m\u001b[0m\u001b[1;33m\u001b[0m\u001b[0m\n\u001b[0m\u001b[0;32m     85\u001b[0m \u001b[1;33m\u001b[0m\u001b[0m\n\u001b[0;32m     86\u001b[0m     \u001b[1;32mraise\u001b[0m \u001b[0mTypeError\u001b[0m\u001b[1;33m(\u001b[0m\u001b[0mdefault_collate_err_msg_format\u001b[0m\u001b[1;33m.\u001b[0m\u001b[0mformat\u001b[0m\u001b[1;33m(\u001b[0m\u001b[0melem_type\u001b[0m\u001b[1;33m)\u001b[0m\u001b[1;33m)\u001b[0m\u001b[1;33m\u001b[0m\u001b[1;33m\u001b[0m\u001b[0m\n",
      "\u001b[1;32m~\\anaconda3\\envs\\torch\\lib\\site-packages\\torch\\utils\\data\\_utils\\collate.py\u001b[0m in \u001b[0;36m<listcomp>\u001b[1;34m(.0)\u001b[0m\n\u001b[0;32m     82\u001b[0m             \u001b[1;32mraise\u001b[0m \u001b[0mRuntimeError\u001b[0m\u001b[1;33m(\u001b[0m\u001b[1;34m'each element in list of batch should be of equal size'\u001b[0m\u001b[1;33m)\u001b[0m\u001b[1;33m\u001b[0m\u001b[1;33m\u001b[0m\u001b[0m\n\u001b[0;32m     83\u001b[0m         \u001b[0mtransposed\u001b[0m \u001b[1;33m=\u001b[0m \u001b[0mzip\u001b[0m\u001b[1;33m(\u001b[0m\u001b[1;33m*\u001b[0m\u001b[0mbatch\u001b[0m\u001b[1;33m)\u001b[0m\u001b[1;33m\u001b[0m\u001b[1;33m\u001b[0m\u001b[0m\n\u001b[1;32m---> 84\u001b[1;33m         \u001b[1;32mreturn\u001b[0m \u001b[1;33m[\u001b[0m\u001b[0mdefault_collate\u001b[0m\u001b[1;33m(\u001b[0m\u001b[0msamples\u001b[0m\u001b[1;33m)\u001b[0m \u001b[1;32mfor\u001b[0m \u001b[0msamples\u001b[0m \u001b[1;32min\u001b[0m \u001b[0mtransposed\u001b[0m\u001b[1;33m]\u001b[0m\u001b[1;33m\u001b[0m\u001b[1;33m\u001b[0m\u001b[0m\n\u001b[0m\u001b[0;32m     85\u001b[0m \u001b[1;33m\u001b[0m\u001b[0m\n\u001b[0;32m     86\u001b[0m     \u001b[1;32mraise\u001b[0m \u001b[0mTypeError\u001b[0m\u001b[1;33m(\u001b[0m\u001b[0mdefault_collate_err_msg_format\u001b[0m\u001b[1;33m.\u001b[0m\u001b[0mformat\u001b[0m\u001b[1;33m(\u001b[0m\u001b[0melem_type\u001b[0m\u001b[1;33m)\u001b[0m\u001b[1;33m)\u001b[0m\u001b[1;33m\u001b[0m\u001b[1;33m\u001b[0m\u001b[0m\n",
      "\u001b[1;32m~\\anaconda3\\envs\\torch\\lib\\site-packages\\torch\\utils\\data\\_utils\\collate.py\u001b[0m in \u001b[0;36mdefault_collate\u001b[1;34m(batch)\u001b[0m\n\u001b[0;32m     53\u001b[0m             \u001b[0mstorage\u001b[0m \u001b[1;33m=\u001b[0m \u001b[0melem\u001b[0m\u001b[1;33m.\u001b[0m\u001b[0mstorage\u001b[0m\u001b[1;33m(\u001b[0m\u001b[1;33m)\u001b[0m\u001b[1;33m.\u001b[0m\u001b[0m_new_shared\u001b[0m\u001b[1;33m(\u001b[0m\u001b[0mnumel\u001b[0m\u001b[1;33m)\u001b[0m\u001b[1;33m\u001b[0m\u001b[1;33m\u001b[0m\u001b[0m\n\u001b[0;32m     54\u001b[0m             \u001b[0mout\u001b[0m \u001b[1;33m=\u001b[0m \u001b[0melem\u001b[0m\u001b[1;33m.\u001b[0m\u001b[0mnew\u001b[0m\u001b[1;33m(\u001b[0m\u001b[0mstorage\u001b[0m\u001b[1;33m)\u001b[0m\u001b[1;33m\u001b[0m\u001b[1;33m\u001b[0m\u001b[0m\n\u001b[1;32m---> 55\u001b[1;33m         \u001b[1;32mreturn\u001b[0m \u001b[0mtorch\u001b[0m\u001b[1;33m.\u001b[0m\u001b[0mstack\u001b[0m\u001b[1;33m(\u001b[0m\u001b[0mbatch\u001b[0m\u001b[1;33m,\u001b[0m \u001b[1;36m0\u001b[0m\u001b[1;33m,\u001b[0m \u001b[0mout\u001b[0m\u001b[1;33m=\u001b[0m\u001b[0mout\u001b[0m\u001b[1;33m)\u001b[0m\u001b[1;33m\u001b[0m\u001b[1;33m\u001b[0m\u001b[0m\n\u001b[0m\u001b[0;32m     56\u001b[0m     \u001b[1;32melif\u001b[0m \u001b[0melem_type\u001b[0m\u001b[1;33m.\u001b[0m\u001b[0m__module__\u001b[0m \u001b[1;33m==\u001b[0m \u001b[1;34m'numpy'\u001b[0m \u001b[1;32mand\u001b[0m \u001b[0melem_type\u001b[0m\u001b[1;33m.\u001b[0m\u001b[0m__name__\u001b[0m \u001b[1;33m!=\u001b[0m \u001b[1;34m'str_'\u001b[0m\u001b[0;31m \u001b[0m\u001b[0;31m\\\u001b[0m\u001b[1;33m\u001b[0m\u001b[1;33m\u001b[0m\u001b[0m\n\u001b[0;32m     57\u001b[0m             \u001b[1;32mand\u001b[0m \u001b[0melem_type\u001b[0m\u001b[1;33m.\u001b[0m\u001b[0m__name__\u001b[0m \u001b[1;33m!=\u001b[0m \u001b[1;34m'string_'\u001b[0m\u001b[1;33m:\u001b[0m\u001b[1;33m\u001b[0m\u001b[1;33m\u001b[0m\u001b[0m\n",
      "\u001b[1;31mRuntimeError\u001b[0m: stack expects each tensor to be equal size, but got [3, 27, 1080, 1920] at entry 0 and [3, 22, 1080, 1920] at entry 1"
     ]
    }
   ],
   "source": [
    "x = next(iter(dm.train_dataloader()))"
   ]
  },
  {
   "cell_type": "code",
   "execution_count": 16,
   "metadata": {},
   "outputs": [
    {
     "output_type": "error",
     "ename": "NameError",
     "evalue": "name 'x' is not defined",
     "traceback": [
      "\u001b[1;31m---------------------------------------------------------------------------\u001b[0m",
      "\u001b[1;31mNameError\u001b[0m                                 Traceback (most recent call last)",
      "\u001b[1;32m<ipython-input-16-6fcf9dfbd479>\u001b[0m in \u001b[0;36m<module>\u001b[1;34m\u001b[0m\n\u001b[1;32m----> 1\u001b[1;33m \u001b[0mx\u001b[0m\u001b[1;33m\u001b[0m\u001b[1;33m\u001b[0m\u001b[0m\n\u001b[0m",
      "\u001b[1;31mNameError\u001b[0m: name 'x' is not defined"
     ]
    }
   ],
   "source": [
    "x"
   ]
  },
  {
   "cell_type": "code",
   "execution_count": 17,
   "metadata": {},
   "outputs": [
    {
     "output_type": "execute_result",
     "data": {
      "text/plain": "<dataset.CCTVDataModule at 0x1e35b1ae630>"
     },
     "metadata": {},
     "execution_count": 17
    }
   ],
   "source": [
    "dm"
   ]
  },
  {
   "cell_type": "code",
   "execution_count": null,
   "metadata": {},
   "outputs": [],
   "source": []
  }
 ]
}