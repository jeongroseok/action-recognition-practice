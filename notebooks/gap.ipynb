{
 "metadata": {
  "language_info": {
   "codemirror_mode": {
    "name": "ipython",
    "version": 3
   },
   "file_extension": ".py",
   "mimetype": "text/x-python",
   "name": "python",
   "nbconvert_exporter": "python",
   "pygments_lexer": "ipython3",
   "version": "3.6.11-final"
  },
  "orig_nbformat": 2,
  "kernelspec": {
   "name": "python361164bittorchcondaeb76ef5d69b64ff397befeae0cc148d9",
   "display_name": "Python 3.6.11 64-bit ('torch': conda)"
  }
 },
 "nbformat": 4,
 "nbformat_minor": 2,
 "cells": [
  {
   "cell_type": "code",
   "execution_count": 1,
   "metadata": {},
   "outputs": [],
   "source": [
    "import numpy as np\n",
    "import torch\n",
    "import torch.nn as nn\n",
    "import torchvision.models as models\n",
    "import torchvision.datasets as datasets\n",
    "import torchvision.transforms as transforms"
   ]
  },
  {
   "cell_type": "code",
   "execution_count": 2,
   "metadata": {},
   "outputs": [],
   "source": [
    "def get_data_loaders(train_batch_size, val_batch_size):\n",
    "    data_transform = Compose([ToTensor(), Normalize((0.1307, ), (0.3081, ))])\n",
    "\n",
    "    train_loader = DataLoader(MNIST(download=True,\n",
    "                                    root=\"./MNIST_data\",\n",
    "                                    transform=data_transform,\n",
    "                                    train=True),\n",
    "                              batch_size=train_batch_size,\n",
    "                              shuffle=True)\n",
    "\n",
    "    val_loader = DataLoader(MNIST(download=False,\n",
    "                                  root=\"./MNIST_data\",\n",
    "                                  transform=data_transform,\n",
    "                                  train=False),\n",
    "                            batch_size=val_batch_size,\n",
    "                            shuffle=False)\n",
    "    return train_loader, val_loader"
   ]
  },
  {
   "cell_type": "code",
   "execution_count": 3,
   "metadata": {},
   "outputs": [],
   "source": [
    "class Net(nn.Module):\n",
    "    def __init__(self):\n",
    "        super().__init__()\n",
    "        self.layer = nn.Sequential(\n",
    "            nn.Conv2d(1, 16, 3, 1),\n",
    "            nn.ReLU(True),\n",
    "            nn.Conv2d(16, 32, 3, 1),\n",
    "            nn.ReLU(True),\n",
    "            nn.Conv2d(32, 64, 3, 1),\n",
    "            nn.AdaptiveAvgPool2d(1),\n",
    "        )\n",
    "        self.layer.cuda()\n",
    "\n",
    "    def forward(self, x):\n",
    "        output = self.layer(x)\n",
    "        output.squeeze_()\n",
    "        return output"
   ]
  },
  {
   "cell_type": "code",
   "execution_count": 4,
   "metadata": {},
   "outputs": [],
   "source": [
    "model = MyModel()\n",
    "model.seq = torch.nn.DataParallel(model.seq)"
   ]
  },
  {
   "cell_type": "code",
   "execution_count": 35,
   "metadata": {},
   "outputs": [],
   "source": [
    "criterion = nn.CrossEntropyLoss().cuda()\n",
    "optimizer = torch.optim.Adam(model.parameters(), lr=1)"
   ]
  },
  {
   "cell_type": "code",
   "execution_count": 36,
   "metadata": {
    "tags": []
   },
   "outputs": [
    {
     "output_type": "stream",
     "name": "stdout",
     "text": "[Epoch:    1] cost = 6.59890985\n[Epoch:    2] cost = 1.49355698\n[Epoch:    3] cost = 1.40849495\n[Epoch:    4] cost = 1.27819133\n[Epoch:    5] cost = 1.19299078\n[Epoch:    6] cost = 1.20509815\n[Epoch:    7] cost = 1.17073643\n[Epoch:    8] cost = 1.16660511\n[Epoch:    9] cost = 1.16047764\n[Epoch:   10] cost = 1.15583706\n"
    }
   ],
   "source": [
    "for epoch in range(10):\n",
    "    avg_cost = 0\n",
    "\n",
    "    for X, Y in data_loader:\n",
    "        X = X.cuda()\n",
    "        Y = Y.cuda()\n",
    "\n",
    "        optimizer.zero_grad()\n",
    "        hypothesis = model(X)\n",
    "        cost = criterion(hypothesis, Y)\n",
    "        cost.backward()\n",
    "        optimizer.step()\n",
    "\n",
    "        avg_cost += cost / 10\n",
    "\n",
    "    print('[Epoch: {:>4}] cost = {:>.9}'.format(epoch + 1, avg_cost))"
   ]
  },
  {
   "cell_type": "code",
   "execution_count": 37,
   "metadata": {
    "tags": []
   },
   "outputs": [
    {
     "output_type": "stream",
     "name": "stdout",
     "text": "Test set: Accuracy: 8.43%\n"
    }
   ],
   "source": [
    "model.eval()\n",
    "correct = 0\n",
    "for data, target in data_loader:\n",
    "    data = data.cuda()\n",
    "    target = target.cuda()\n",
    "    # data, target = Variable(data, volatile=True), Variable(target)\n",
    "    output = model(data)\n",
    "    prediction = output.data.max(1)[1]\n",
    "    correct += prediction.eq(target.data).sum()\n",
    "\n",
    "print('Test set: Accuracy: {:.2f}%'.format(100. * correct / len(data_loader.dataset)))"
   ]
  },
  {
   "cell_type": "code",
   "execution_count": 34,
   "metadata": {
    "tags": []
   },
   "outputs": [
    {
     "output_type": "stream",
     "name": "stdout",
     "text": "Test set: Accuracy: 30.58%\n"
    }
   ],
   "source": [
    "model.eval()\n",
    "correct = 0\n",
    "for data, target in data_loader:\n",
    "    data = data.cuda()\n",
    "    target = target.cuda()\n",
    "    # data, target = Variable(data, volatile=True), Variable(target)\n",
    "    output = model(data)\n",
    "    prediction = output.data.max(1)[1]\n",
    "    correct += prediction.eq(target.data).sum()\n",
    "\n",
    "print('Test set: Accuracy: {:.2f}%'.format(100. * correct / len(data_loader.dataset)))"
   ]
  },
  {
   "cell_type": "code",
   "execution_count": 21,
   "metadata": {},
   "outputs": [
    {
     "output_type": "execute_result",
     "data": {
      "text/plain": "tensor([7, 9, 1,  ..., 6, 8, 4], device='cuda:0')"
     },
     "metadata": {},
     "execution_count": 21
    }
   ],
   "source": [
    "y.data"
   ]
  },
  {
   "cell_type": "code",
   "execution_count": 22,
   "metadata": {},
   "outputs": [
    {
     "output_type": "execute_result",
     "data": {
      "text/plain": "tensor([7, 9, 1,  ..., 6, 8, 4], device='cuda:0')"
     },
     "metadata": {},
     "execution_count": 22
    }
   ],
   "source": [
    "y"
   ]
  }
 ]
}