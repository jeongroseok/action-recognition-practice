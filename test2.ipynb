{
 "metadata": {
  "language_info": {
   "codemirror_mode": {
    "name": "ipython",
    "version": 3
   },
   "file_extension": ".py",
   "mimetype": "text/x-python",
   "name": "python",
   "nbconvert_exporter": "python",
   "pygments_lexer": "ipython3",
   "version": "3.6.11-final"
  },
  "orig_nbformat": 2,
  "kernelspec": {
   "name": "python361164bittorchcondaeb76ef5d69b64ff397befeae0cc148d9",
   "display_name": "Python 3.6.11 64-bit ('torch': conda)"
  }
 },
 "nbformat": 4,
 "nbformat_minor": 2,
 "cells": [
  {
   "cell_type": "code",
   "execution_count": 1,
   "metadata": {},
   "outputs": [],
   "source": [
    "import torch\n",
    "import torch.nn as nn\n",
    "import torchvision.models as models\n",
    "import numpy as np"
   ]
  },
  {
   "cell_type": "code",
   "execution_count": 25,
   "metadata": {
    "tags": []
   },
   "outputs": [
    {
     "output_type": "stream",
     "name": "stdout",
     "text": "512\n"
    }
   ],
   "source": [
    "model = models.resnet18(pretrained=True)\n",
    "print(model.fc.in_features)\n",
    "model.fc = nn.Linear(model.fc.in_features, 128)"
   ]
  },
  {
   "cell_type": "code",
   "execution_count": 16,
   "metadata": {},
   "outputs": [
    {
     "output_type": "execute_result",
     "data": {
      "text/plain": "torch.Size([32, 4, 3, 144, 144])"
     },
     "metadata": {},
     "execution_count": 16
    }
   ],
   "source": [
    "x_3d = torch.randn((32, 4, 3, 144, 144))\n",
    "x_3d.shape"
   ]
  },
  {
   "cell_type": "code",
   "execution_count": 19,
   "metadata": {
    "tags": []
   },
   "outputs": [
    {
     "output_type": "stream",
     "name": "stdout",
     "text": "x: torch.Size([32, 3, 144, 144])\nmodel output: torch.Size([32, 128])\nx: torch.Size([32, 3, 144, 144])\nmodel output: torch.Size([32, 128])\nx: torch.Size([32, 3, 144, 144])\nmodel output: torch.Size([32, 128])\nx: torch.Size([32, 3, 144, 144])\nmodel output: torch.Size([32, 128])\noutputs: torch.Size([32, 4, 128])\n"
    }
   ],
   "source": [
    "outputs = []\n",
    "for t in range(x_3d.size(1)):  # time 크기\n",
    "    x = x_3d[:, t, :, :, :]  # (batch, channel, x, y)\n",
    "    print(f\"x: {x.shape}\")\n",
    "    x = model(x)\n",
    "    print(f\"model output: {x.shape}\")\n",
    "    outputs.append(x)\n",
    "outputs = torch.stack(outputs, 0).transpose_(0,1)\n",
    "print(f\"outputs: {outputs.shape}\")"
   ]
  },
  {
   "cell_type": "code",
   "execution_count": 18,
   "metadata": {
    "tags": []
   },
   "outputs": [
    {
     "output_type": "stream",
     "name": "stdout",
     "text": "x: torch.Size([32, 3, 144, 144])\nmodel output: torch.Size([32, 128])\nx: torch.Size([32, 3, 144, 144])\nmodel output: torch.Size([32, 128])\nx: torch.Size([32, 3, 144, 144])\nmodel output: torch.Size([32, 128])\nx: torch.Size([32, 3, 144, 144])\nmodel output: torch.Size([32, 128])\noutputs: torch.Size([32, 4, 128])\n"
    }
   ],
   "source": [
    "outputs = []\n",
    "for t in range(x_3d.size(1)):  # time 크기\n",
    "    x = x_3d[:, t, :, :, :]  # (batch, channel, x, y)\n",
    "    x = model(x)\n",
    "    outputs.append(x)\n",
    "outputs = torch.stack(outputs, 1)"
   ]
  },
  {
   "cell_type": "code",
   "execution_count": 27,
   "metadata": {
    "tags": []
   },
   "outputs": [],
   "source": [
    "class R2Plus1dStem(nn.Sequential):\n",
    "    \"\"\"R(2+1)D stem is different than the default one as it uses separated 3D convolution\n",
    "    \"\"\"\n",
    "    def __init__(self):\n",
    "        super(R2Plus1dStem, self).__init__(\n",
    "            nn.Conv3d(3, 45, kernel_size=(1, 7, 7),\n",
    "                      stride=(1, 2, 2), padding=(0, 3, 3),\n",
    "                      bias=False),\n",
    "            nn.BatchNorm3d(45),\n",
    "            nn.ReLU(inplace=True),\n",
    "            nn.Conv3d(45, 64, kernel_size=(3, 1, 1),\n",
    "                      stride=(1, 1, 1), padding=(1, 0, 0),\n",
    "                      bias=False),\n",
    "            nn.BatchNorm3d(64),\n",
    "            nn.ReLU(inplace=True))"
   ]
  },
  {
   "cell_type": "code",
   "execution_count": 31,
   "metadata": {},
   "outputs": [
    {
     "output_type": "execute_result",
     "data": {
      "text/plain": "torch.Size([1, 64, 5, 60, 60])"
     },
     "metadata": {},
     "execution_count": 31
    }
   ],
   "source": [
    "R2Plus1dStem()(torch.randn((1, 3, 5, 120, 120))).shape"
   ]
  },
  {
   "cell_type": "code",
   "execution_count": 46,
   "metadata": {
    "tags": []
   },
   "outputs": [
    {
     "output_type": "stream",
     "name": "stdout",
     "text": "512\n"
    }
   ],
   "source": [
    "model = models.video.r2plus1d_18(True)\n",
    "for param in model.parameters():\n",
    "    param.requires_grad = False\n",
    "model.eval()\n",
    "print(model.fc.in_features)\n",
    "model.fc = nn.Linear(model_vid.fc.in_features, 128)"
   ]
  },
  {
   "cell_type": "code",
   "execution_count": 62,
   "metadata": {},
   "outputs": [
    {
     "output_type": "error",
     "ename": "ValueError",
     "evalue": "could not broadcast input array from shape (128,512) into shape (128)",
     "traceback": [
      "\u001b[1;31m---------------------------------------------------------------------------\u001b[0m",
      "\u001b[1;31mValueError\u001b[0m                                Traceback (most recent call last)",
      "\u001b[1;32m<ipython-input-62-93cebe20fc1d>\u001b[0m in \u001b[0;36m<module>\u001b[1;34m\u001b[0m\n\u001b[1;32m----> 1\u001b[1;33m \u001b[0mnp\u001b[0m\u001b[1;33m.\u001b[0m\u001b[0marray\u001b[0m\u001b[1;33m(\u001b[0m\u001b[0mlist\u001b[0m\u001b[1;33m(\u001b[0m\u001b[0mmap\u001b[0m\u001b[1;33m(\u001b[0m\u001b[1;32mlambda\u001b[0m \u001b[0mx\u001b[0m\u001b[1;33m:\u001b[0m \u001b[0mx\u001b[0m\u001b[1;33m.\u001b[0m\u001b[0mdetach\u001b[0m\u001b[1;33m(\u001b[0m\u001b[1;33m)\u001b[0m\u001b[1;33m.\u001b[0m\u001b[0mnumpy\u001b[0m\u001b[1;33m(\u001b[0m\u001b[1;33m)\u001b[0m\u001b[1;33m,\u001b[0m \u001b[0mfilter\u001b[0m\u001b[1;33m(\u001b[0m\u001b[1;32mlambda\u001b[0m \u001b[0mp\u001b[0m\u001b[1;33m:\u001b[0m \u001b[0mp\u001b[0m\u001b[1;33m.\u001b[0m\u001b[0mrequires_grad\u001b[0m\u001b[1;33m,\u001b[0m \u001b[0mmodel_vid\u001b[0m\u001b[1;33m.\u001b[0m\u001b[0mparameters\u001b[0m\u001b[1;33m(\u001b[0m\u001b[1;33m)\u001b[0m\u001b[1;33m)\u001b[0m\u001b[1;33m)\u001b[0m\u001b[1;33m)\u001b[0m\u001b[1;33m)\u001b[0m\u001b[1;33m\u001b[0m\u001b[1;33m\u001b[0m\u001b[0m\n\u001b[0m",
      "\u001b[1;31mValueError\u001b[0m: could not broadcast input array from shape (128,512) into shape (128)"
     ]
    }
   ],
   "source": [
    "np.array(list(map(lambda x: x.detach().numpy(), filter(lambda p: p.requires_grad, model_vid.parameters()))))"
   ]
  },
  {
   "cell_type": "code",
   "execution_count": null,
   "metadata": {},
   "outputs": [],
   "source": []
  }
 ]
}